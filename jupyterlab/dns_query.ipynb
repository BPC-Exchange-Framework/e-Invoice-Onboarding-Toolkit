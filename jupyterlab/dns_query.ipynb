{
 "cells": [
  {
   "cell_type": "markdown",
   "id": "2dcc2f30-fa68-4dcf-b1d5-5752264d2bd5",
   "metadata": {
    "tags": []
   },
   "source": [
    "# Code Samples"
   ]
  },
  {
   "cell_type": "markdown",
   "id": "0c7f6a7b-766a-4aae-a9bd-a903c81a6d06",
   "metadata": {},
   "source": [
    "## Exmple of requests module with a JSON response."
   ]
  },
  {
   "cell_type": "code",
   "execution_count": 4,
   "id": "7b9fcc21-c70b-4ea6-9aa4-8dc57161ff71",
   "metadata": {},
   "outputs": [
    {
     "name": "stdout",
     "output_type": "stream",
     "text": [
      "<Response [200]>\n"
     ]
    }
   ],
   "source": [
    "import requests\n",
    "\n",
    "api_url = \"https://jsonplaceholder.typicode.com/todos/1\"\n",
    "response = requests.get(api_url)\n",
    "response.json()\n",
    "print(response)"
   ]
  },
  {
   "cell_type": "markdown",
   "id": "09049cbe-b074-46bc-a839-5c565fc80356",
   "metadata": {},
   "source": [
    "## Example using the dns.resolver module to query the DNS directly.\n",
    "Note the type of the object returned from the query is dns.resolver.Answer"
   ]
  },
  {
   "cell_type": "code",
   "execution_count": 6,
   "id": "8af8bc44-c2ce-469d-b565-fec354a2084d",
   "metadata": {},
   "outputs": [
    {
     "name": "stdout",
     "output_type": "stream",
     "text": [
      "<class 'dns.resolver.Answer'>\n",
      "6c24uvqpxrfyweqimfxmsuym3bbjvoikuwmmidquz2a2zzyikdya.sc-b2b.us. 60 IN NAPTR 100 100 \"U\" \"oasis-bdxr-smp-2\" \"!^.*$!https://my-smp-url.com/0123456789!\" .\n"
     ]
    }
   ],
   "source": [
    "import dns.resolver\n",
    "\n",
    "hashed_value = \"6c24uvqpxrfyweqimfxmsuym3bbjvoikuwmmidquz2a2zzyikdya.sc-b2b.us\"\n",
    "lookup = dns.resolver.resolve(hashed_value,'NAPTR')\n",
    "print(type(lookup))\n",
    "print(lookup.rrset)"
   ]
  },
  {
   "cell_type": "markdown",
   "id": "95887444-7710-4665-b90b-a2c727f4c055",
   "metadata": {},
   "source": [
    "## Example of using dns.resolver in a function."
   ]
  },
  {
   "cell_type": "code",
   "execution_count": 8,
   "id": "d6eee2d6-5985-4f91-b3f6-ea2028aed574",
   "metadata": {},
   "outputs": [
    {
     "data": {
      "text/plain": [
       "'!^.*$!https://my-smp-url.com/0123456789!'"
      ]
     },
     "execution_count": 8,
     "metadata": {},
     "output_type": "execute_result"
    }
   ],
   "source": [
    "import dns.resolver\n",
    "\n",
    "def naptr_lookup(urn, domain):\n",
    "        \"\"\"Module to do the naptr dns query/look-up.\"\"\"\n",
    "        naptr_record = urn + \".\" + domain\n",
    "        # log.info(f\"Look-up for urn: {self.naptr_record}\")\n",
    "        lookup_response = dns.resolver.resolve(naptr_record,\n",
    "                                                     'NAPTR')\n",
    "        for answer in lookup_response.rrset:\n",
    "            smp_uri = answer.regexp\n",
    "            smp_uri = smp_uri.decode()\n",
    "        return smp_uri\n",
    "    \n",
    "naptr_lookup(\"6c24uvqpxrfyweqimfxmsuym3bbjvoikuwmmidquz2a2zzyikdya\",\"sc-b2b.us\")"
   ]
  },
  {
   "cell_type": "markdown",
   "id": "9adbda87-c161-433c-972e-dd864851642e",
   "metadata": {},
   "source": [
    "## Same as above except callout the resolve method from the dns.resolver module."
   ]
  },
  {
   "cell_type": "code",
   "execution_count": 17,
   "id": "07296810-d903-47ff-9faf-2ee97fe32046",
   "metadata": {
    "tags": []
   },
   "outputs": [
    {
     "name": "stdout",
     "output_type": "stream",
     "text": [
      "!^.*$!https://my-smp-url.com/0123456789!\n"
     ]
    }
   ],
   "source": [
    "from dns.resolver import resolve\n",
    "\n",
    "naptr_record = \"6c24uvqpxrfyweqimfxmsuym3bbjvoikuwmmidquz2a2zzyikdya.sc-b2b.us\"\n",
    "lookup_response = resolve(naptr_record, \"NAPTR\")\n",
    "for answer in lookup_response.rrset:\n",
    "    smp_uri = answer.regexp\n",
    "    smp_uri = smp_uri.decode()\n",
    "    print(smp_uri)\n",
    "# return smp_uri\n",
    "                               "
   ]
  },
  {
   "cell_type": "markdown",
   "id": "78612986-4643-4892-853d-4f00bd91e7d5",
   "metadata": {},
   "source": [
    "## Return the entire Answer object and express as an rrset."
   ]
  },
  {
   "cell_type": "code",
   "execution_count": 18,
   "id": "7f602647-9bb8-4290-bed5-df2ebf00fc31",
   "metadata": {},
   "outputs": [
    {
     "name": "stdout",
     "output_type": "stream",
     "text": [
      "<class 'dns.resolver.Answer'>\n",
      "6c24uvqpxrfyweqimfxmsuym3bbjvoikuwmmidquz2a2zzyikdya.sc-b2b.us. 35 IN NAPTR 100 100 \"U\" \"oasis-bdxr-smp-2\" \"!^.*$!https://my-smp-url.com/0123456789!\" .\n"
     ]
    }
   ],
   "source": [
    "import dns.resolver\n",
    "\n",
    "hashed_value = \"6c24uvqpxrfyweqimfxmsuym3bbjvoikuwmmidquz2a2zzyikdya.sc-b2b.us\"\n",
    "lookup = resolve(hashed_value,'NAPTR')\n",
    "print(type(lookup))\n",
    "print(lookup.rrset)"
   ]
  }
 ],
 "metadata": {
  "kernelspec": {
   "display_name": "Python 3 (ipykernel)",
   "language": "python",
   "name": "python3"
  },
  "language_info": {
   "codemirror_mode": {
    "name": "ipython",
    "version": 3
   },
   "file_extension": ".py",
   "mimetype": "text/x-python",
   "name": "python",
   "nbconvert_exporter": "python",
   "pygments_lexer": "ipython3",
   "version": "3.11.0"
  },
  "vscode": {
   "interpreter": {
    "hash": "26de051ba29f2982a8de78e945f0abaf191376122a1563185a90213a26c5da77"
   }
  }
 },
 "nbformat": 4,
 "nbformat_minor": 5
}
