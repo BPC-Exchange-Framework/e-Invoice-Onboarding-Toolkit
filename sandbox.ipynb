{
 "cells": [
  {
   "cell_type": "code",
   "execution_count": 28,
   "id": "e2e0a24b-e04a-48f6-a146-ebad4042827c",
   "metadata": {},
   "outputs": [
    {
     "name": "stdout",
     "output_type": "stream",
     "text": [
      "Start with String: urn:oasis:names:tc:ebcore:partyid-type:iso6523::0123456789\n",
      "Encode string as binary-like object: b'urn:oasis:names:tc:ebcore:partyid-type:iso6523::0123456789'\n",
      "Apply shaw256 and show that it returns a hash object: <sha256 _hashlib.HASH object @ 0x7f99d0b85a90>\n",
      "Show the hexdigest of the hash object: f0b5ca560fbc4b8b1208616ec9530cd8429ab90aa598c40e14ce81ace70850f0\n",
      "Encode the hexdigest version of the hash object into a byte-like object: b'f0b5ca560fbc4b8b1208616ec9530cd8429ab90aa598c40e14ce81ace70850f0'\n",
      "Output of applying Base32 to hash_string: b'MYYGENLDME2TMMDGMJRTIYRYMIYTEMBYGYYTMZLDHE2TGMDDMQ4DIMRZMFRDSMDBME2TSODDGQYGKMJUMNSTQMLBMNSTOMBYGUYGMMA='\n"
     ]
    }
   ],
   "source": [
    "import hashlib\n",
    "import base64\n",
    "\n",
    "urn = 'urn:oasis:names:tc:ebcore:partyid-type:iso6523::0123456789'\n",
    "print ('Start with String: %s' % urn)\n",
    "urn_encoded = urn.encode()\n",
    "print ('Encode string as binary-like object: %s' % urn_encoded)\n",
    "urn_hashed = hashlib.sha256(urn_encoded)\n",
    "print ('Apply shaw256 and show that it returns a hash object: %s' % urn_hashed)\n",
    "urn_hash_digest = urn_hashed.hexdigest()\n",
    "print ('Show the hexdigest of the hash object: %s' % urn_hash_digest)\n",
    "\n",
    "urn_hash_string = urn_hash_digest.encode()\n",
    "print (\"Encode the hexdigest version of the hash object into a byte-like object: %s\" % urn_hash_string)\n",
    "output = base64.b32encode(urn_hash_string)\n",
    "print (\"Output of applying Base32 to hash_string: %s\" % output)\n"
   ]
  },
  {
   "cell_type": "code",
   "execution_count": 23,
   "id": "330cafa9-0880-4ba8-bc2c-b2fe41fb7144",
   "metadata": {},
   "outputs": [
    {
     "name": "stderr",
     "output_type": "stream",
     "text": [
      "07/28/2021 05:36:39 PM - INFO - clog_default_logger - Log created\n",
      "07/28/2021 05:36:39 PM - INFO - clog_default_logger - Log created\n",
      "07/28/2021 05:36:39 PM - INFO - clog_default_logger - Log created\n",
      "07/28/2021 05:36:39 PM - INFO - clog_default_logger - Log created\n"
     ]
    },
    {
     "name": "stdout",
     "output_type": "stream",
     "text": [
      "Create logger with name default_logger\n"
     ]
    }
   ],
   "source": [
    "import logging\n",
    "\n",
    "def create_logger(name):\n",
    "    \"\"\"This function creates a logger template for the einvoice package.\n",
    "\n",
    "    This funtion creates a consistant format and location for\n",
    "    all application log files to write to.\n",
    "    \"\"\"\n",
    "    print(\"Create logger with name %s\" % name)\n",
    "    clog = logging.getLogger(\"clog_\" + name)\n",
    "    flog = logging.getLogger(\"flog_\" + name)\n",
    "\n",
    "    # It's okay to run INFO in Dev.  Turn it down to DEBUG for QA\n",
    "    # and WARN for Prod unless troubleshooting an issue.\n",
    "    flog.setLevel(logging.DEBUG)\n",
    "    clog.setLevel(logging.DEBUG)\n",
    "\n",
    "    # create file handler which writes to a file.\n",
    "    flogger = logging.FileHandler(\"jupyter_output.log\")\n",
    "    flogger.setLevel(logging.DEBUG)\n",
    "\n",
    "    # create console handler with a higher log level\n",
    "    clogger = logging.StreamHandler()\n",
    "    clogger.setLevel(logging.INFO)\n",
    "\n",
    "    # Create a custom formatter and add it to the handlers\n",
    "    _format = \"%(asctime)s - %(levelname)s - %(name)s - %(message)s\"\n",
    "    datefmt = \"%m/%d/%Y %I:%M:%S %p\"\n",
    "    formatter = logging.Formatter(_format, datefmt)\n",
    "\n",
    "    flogger.setFormatter(formatter)\n",
    "    clogger.setFormatter(formatter)\n",
    "\n",
    "    # Associate the the handlers to the loggers\n",
    "    flog.addHandler(flogger)\n",
    "    clog.addHandler(clogger)\n",
    "\n",
    "    return clog\n",
    "\n",
    "log = create_logger(\"default_logger\")\n",
    "log.info(\"Log created\")"
   ]
  },
  {
   "cell_type": "code",
   "execution_count": 27,
   "id": "7bc755de-c19a-42dc-b89b-2290d89dc7a6",
   "metadata": {},
   "outputs": [
    {
     "name": "stderr",
     "output_type": "stream",
     "text": [
      "07/28/2021 05:41:12 PM - INFO - clog_urn_logger - Creating urn\n",
      "07/28/2021 05:41:12 PM - INFO - clog_urn_logger - Creating urn\n",
      "07/28/2021 05:41:12 PM - INFO - clog_urn_logger - Creating urn\n",
      "07/28/2021 05:41:12 PM - INFO - clog_urn_logger - Creating urn\n",
      "07/28/2021 05:41:12 PM - INFO - clog_urn_logger - Creating urn\n",
      "07/28/2021 05:41:12 PM - INFO - clog_urn_logger - Creating urn\n"
     ]
    },
    {
     "name": "stdout",
     "output_type": "stream",
     "text": [
      "Create logger with name urn_logger\n",
      "{\"prty_id_spec\": \"urn:oasis:names:tc:ebcore:partyid-type\", \"prty_id_schma_type\": \"iso6523\", \"prty_id\": \"0123456789\"}\n"
     ]
    }
   ],
   "source": [
    "from dataclasses import dataclass\n",
    "from json import dumps\n",
    "\n",
    "ulog = create_logger(\"urn_logger\")\n",
    "ulog.info(\"Creating urn\")\n",
    "\n",
    "def writeURNtoJSON(_smlurn, _f_n):\n",
    "    \"\"\"Write the urn values to a file\"\"\"\n",
    "    json_str = dumps(_smlurn.__dict__)\n",
    "    with open(_f_n, \"w\") as f:\n",
    "        f.write(json_str)\n",
    "\n",
    "@dataclass\n",
    "class SMLURN:\n",
    "    prty_id_spec: str = \"urn:oasis:names:tc:ebcore:partyid-type\"\n",
    "    prty_id_schma_type: str = \"iso6523\"\n",
    "    prty_id: str = \"0123456789\"\n",
    "        \n",
    "    def prty_urn(self) -> str:\n",
    "        \"\"\"Construct string for the party's URN\"\"\"\n",
    "        return self.prty_id_spec + \":\" + self.prty_id_schma_type + \"::\" \\\n",
    "            + self.prty_id\n",
    "\n",
    "    \n",
    "myurn = SMLURN(\"urn:oasis:names:tc:ebcore:partyid-type\", \"iso6523\", \"0123456789\")\n",
    "ulog.debug(\"Created urn: %s\" % myurn.prty_urn)\n",
    "print(dumps(myurn.__dict__))\n",
    "writeURNtoJSON(myurn,\"./smlurn.json\")\n",
    "    "
   ]
  },
  {
   "cell_type": "code",
   "execution_count": null,
   "id": "946f0f46-6283-49c1-a176-795fb324f4ad",
   "metadata": {},
   "outputs": [],
   "source": []
  }
 ],
 "metadata": {
  "kernelspec": {
   "display_name": "Python 3",
   "language": "python",
   "name": "python3"
  },
  "language_info": {
   "codemirror_mode": {
    "name": "ipython",
    "version": 3
   },
   "file_extension": ".py",
   "mimetype": "text/x-python",
   "name": "python",
   "nbconvert_exporter": "python",
   "pygments_lexer": "ipython3",
   "version": "3.9.5"
  }
 },
 "nbformat": 4,
 "nbformat_minor": 5
}
