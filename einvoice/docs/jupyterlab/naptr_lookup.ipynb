{
 "cells": [
  {
   "cell_type": "code",
   "execution_count": null,
   "id": "3a5c211c-5c95-4fd8-9bc5-b4e205532e0d",
   "metadata": {},
   "outputs": [],
   "source": []
  },
  {
   "cell_type": "code",
   "execution_count": null,
   "id": "c9d76e29-dec0-4b78-b59e-8425f2974cfe",
   "metadata": {},
   "outputs": [],
   "source": [
    "import dns.resolver\n",
    "\n",
    "hashed_value = \"6c24uvqpxrfyweqimfxmsuym3bbjvoikuwmmidquz2a2zzyikdya.sc-b2b.us\"\n",
    "lookup = dns.resolver.resolve(hashed_value,'NAPTR')\n",
    "print(type(lookup))\n",
    "for a in lookup.rrset:\n",
    "    smp_uri = a.regexp\n",
    "smp_uri = smp_uri.decode()\n",
    "print(smp_uri)"
   ]
  },
  {
   "cell_type": "code",
   "execution_count": null,
   "id": "8c3dd043-eef2-44e8-ae27-b9b8d81ec162",
   "metadata": {},
   "outputs": [],
   "source": [
    "import re\n",
    "p = re.compile('\\$')\n",
    "p.match('^.*$')\n"
   ]
  },
  {
   "cell_type": "code",
   "execution_count": null,
   "id": "695fc8c6-cd8b-4e94-ac41-37a91d868c95",
   "metadata": {},
   "outputs": [],
   "source": []
  },
  {
   "cell_type": "code",
   "execution_count": null,
   "id": "0c074c1f-ab50-42cb-9dc3-f231da8e5574",
   "metadata": {},
   "outputs": [],
   "source": []
  }
 ],
 "metadata": {
  "kernelspec": {
   "display_name": "Python 3 (ipykernel)",
   "language": "python",
   "name": "python3"
  },
  "language_info": {
   "codemirror_mode": {
    "name": "ipython",
    "version": 3
   },
   "file_extension": ".py",
   "mimetype": "text/x-python",
   "name": "python",
   "nbconvert_exporter": "python",
   "pygments_lexer": "ipython3",
   "version": "3.9.6"
  }
 },
 "nbformat": 4,
 "nbformat_minor": 5
}
