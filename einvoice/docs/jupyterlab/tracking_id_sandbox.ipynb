{
 "cells": [
  {
   "cell_type": "markdown",
   "id": "6de37382-de65-4442-9e95-afb8daddeb94",
   "metadata": {},
   "source": [
    "# Creating a random Tracking ID\n",
    "\n",
    "Goal: a short (10 digit) random ID to use to identify and track our messges through the process.  \n",
    "\n",
    "Notes:\n",
    "* Implements Python __secrets__\n",
    "* The generated tracking ID is a relatively small sequence of unique combination of 10 upper case ascii letters and the digits 0-9.  \n",
    "* Randomness here is the binomial coefficent of:  \n",
    "36 choose 8 $$ \\binom{36}{8} $$   \n",
    "resulting in a possible ___30,260,340___ combinations."
   ]
  },
  {
   "cell_type": "markdown",
   "id": "dd1bbfcf-1fd8-492b-a5a6-f22b851fee11",
   "metadata": {},
   "source": [
    "## Show your work...   \n",
    "To begin, I wanted to find 8 random bytes using the secrets module in Python."
   ]
  },
  {
   "cell_type": "code",
   "execution_count": 103,
   "id": "acb4c770-ec75-4363-94aa-439b0264462a",
   "metadata": {
    "tags": []
   },
   "outputs": [
    {
     "data": {
      "text/plain": [
       "b'\\xcd\\xb7B\\xeb\\x85\\xc8d\\xcb'"
      ]
     },
     "execution_count": 103,
     "metadata": {},
     "output_type": "execute_result"
    }
   ],
   "source": [
    "                                                                                                                                                                                                                                                                                                                                                                    import secrets\n",
    "n=8\n",
    "secrets.token_bytes(n)\n"
   ]
  },
  {
   "cell_type": "markdown",
   "id": "2e7613c6-3500-4d45-be2e-0a07d96c94b2",
   "metadata": {},
   "source": [
    "Those characters are represented in binary, or as Python refers to them \"byte-like objects,\" which isn't the most user friendly.\n",
    "\n",
    "Let's convert it to a two character hexadecimal number."
   ]
  },
  {
   "cell_type": "code",
   "execution_count": null,
   "id": "0823a0ad-efa2-495a-99c3-395516d6a9cf",
   "metadata": {},
   "outputs": [
    {
     "ename": "",
     "evalue": "",
     "output_type": "error",
     "traceback": [
      "\u001b[1;31mJupyter cannot be started. Error attempting to locate jupyter: Running cells with 'Python 3.10.1 64-bit ('.einvoice': venv)' requires jupyter and notebook package.\n",
      "Run the following command to install 'jupyter and notebook' into the Python environment. \n",
      "Command: '/Library/Frameworks/Python.framework/Versions/3.10/bin/python3.10 -m pip install jupyter notebook -U'"
     ]
    }
   ],
   "source": [
    "import secrets\n",
    "n=8\n",
    "secrets.token_bytes(n).hex()\n"
   ]
  },
  {
   "cell_type": "markdown",
   "id": "83536662-9d3b-411b-9ab9-022a290a4c02",
   "metadata": {},
   "source": [
    "That's better, but there's an easier way to do it.... "
   ]
  },
  {
   "cell_type": "code",
   "execution_count": 105,
   "id": "47e3ea84-cd7f-43a7-948e-ffac815d5fc2",
   "metadata": {},
   "outputs": [
    {
     "data": {
      "text/plain": [
       "'b9eed7d9bec8c216'"
      ]
     },
     "execution_count": 105,
     "metadata": {},
     "output_type": "execute_result"
    }
   ],
   "source": [
    "import secrets\n",
    "n=8\n",
    "secrets.token_hex(n)\n",
    "\n"
   ]
  },
  {
   "cell_type": "markdown",
   "id": "036e20a7-4b5a-4fd1-9f5c-de917a60f8dd",
   "metadata": {},
   "source": [
    "Show me what eight of varying lengths would look like."
   ]
  },
  {
   "cell_type": "code",
   "execution_count": 3,
   "id": "84879830-4bfd-4a26-a25b-12e937e215f2",
   "metadata": {},
   "outputs": [
    {
     "name": "stdout",
     "output_type": "stream",
     "text": [
      "0 : \n",
      "1 : 78\n",
      "2 : a5b9\n",
      "3 : 12708e\n",
      "4 : b4c4ef3e\n",
      "5 : b0c57e86de\n",
      "6 : c78fce834517\n",
      "7 : eb4dd2a3efc848\n"
     ]
    }
   ],
   "source": [
    "\n",
    "import secrets\n",
    "n = 8\n",
    "for i in range (8):\n",
    "    print(str(i) + \" : \" + secrets.token_bytes(i).hex())"
   ]
  },
  {
   "cell_type": "markdown",
   "id": "4029fa5e-b0e8-455f-ad7a-ff44d58a5733",
   "metadata": {},
   "source": [
    "Hex is still too unfriendly for what I want to accmomplish.  Let's set up a domain of possible values being the captial letters and the digits 0-9."
   ]
  },
  {
   "cell_type": "code",
   "execution_count": 5,
   "id": "83d912b3-7e00-4e67-9947-7ce1d285d548",
   "metadata": {},
   "outputs": [
    {
     "name": "stdout",
     "output_type": "stream",
     "text": [
      "abcdefghijklmnopqrstuvwxyzABCDEFGHIJKLMNOPQRSTUVWXYZ0123456789\n"
     ]
    }
   ],
   "source": [
    "import string\n",
    "alphabet = string.ascii_letters + string.digits\n",
    "print(alphabet)"
   ]
  },
  {
   "cell_type": "markdown",
   "id": "99fe857a-4df4-4dea-8d3d-c32d1b0c3730",
   "metadata": {},
   "source": [
    "How about just uppercase letters and digits 0-9"
   ]
  },
  {
   "cell_type": "code",
   "execution_count": 17,
   "id": "95a36ff7-84fe-4ed9-84ad-4b001812e0c6",
   "metadata": {},
   "outputs": [
    {
     "name": "stdout",
     "output_type": "stream",
     "text": [
      "ABCDEFGHIJKLMNOPQRSTUVWXYZ0123456789\n"
     ]
    }
   ],
   "source": [
    "import string\n",
    "alphabet = string.ascii_uppercase + string.digits\n",
    "print(alphabet)"
   ]
  },
  {
   "cell_type": "markdown",
   "id": "8023fb1f-d34e-4c7e-8ced-f8ca8f02de3a",
   "metadata": {},
   "source": [
    "Good.  Now concatenate a string of them together."
   ]
  },
  {
   "cell_type": "code",
   "execution_count": 20,
   "id": "9f479e13-3b27-4148-8a36-5b06a1952f2a",
   "metadata": {},
   "outputs": [
    {
     "name": "stdout",
     "output_type": "stream",
     "text": [
      "DIWQJQ69\n"
     ]
    }
   ],
   "source": [
    "import string\n",
    "alphabet = string.ascii_uppercase + string.digits\n",
    "tracking_number = ''\n",
    "for i in range (8):\n",
    "    tracking_number = tracking_number + (secrets.choice(alphabet))\n",
    "print (tracking_number)"
   ]
  },
  {
   "cell_type": "markdown",
   "id": "8db57685-9384-4bd8-b8fd-9c9cb4656183",
   "metadata": {},
   "source": [
    "Looks good, but make the string a little longer and show me a list of 100 so I can eyeball that they really do appear random.   \n",
    "And we're done."
   ]
  },
  {
   "cell_type": "code",
   "execution_count": 23,
   "id": "e067648e-1be9-4766-a5a5-b0e54bbe82ab",
   "metadata": {},
   "outputs": [
    {
     "name": "stdout",
     "output_type": "stream",
     "text": [
      "7KT54YNVEK\n",
      "HEZHUM7ML8\n",
      "TAS5WYFQDT\n",
      "K1G30Y1XL4\n",
      "OXTWCF6LEC\n",
      "ID0KNILBJS\n",
      "0GR665QKFD\n",
      "KEFZJ0VSG2\n",
      "YDN03595K1\n",
      "KVM2EXUG3A\n",
      "ON6SQDSZ21\n",
      "O12EIRGURE\n",
      "4LDTGP1G3X\n",
      "I7AF6QR9ZK\n",
      "THXWQV8L0Z\n",
      "IYCD9ZCLY5\n",
      "RQ7Q4YP8K3\n",
      "7KJ4O498Z2\n",
      "7SALOP2ODW\n",
      "XIDCR3LTQL\n",
      "9RWRZSLLYW\n",
      "XMQJPX53XC\n",
      "NGN37EM7BK\n",
      "E64S4THJQJ\n",
      "1XIKSFJ6UM\n"
     ]
    }
   ],
   "source": [
    "import string\n",
    "alphabet = string.ascii_uppercase + string.digits\n",
    "for i in range (25):\n",
    "    tracking_number = ''\n",
    "    for i in range (10):\n",
    "        tracking_number = tracking_number + (secrets.choice(alphabet))\n",
    "    print (tracking_number)"
   ]
  },
  {
   "cell_type": "code",
   "execution_count": 10,
   "id": "96854865-163a-4eee-b0a3-4c643dd6abcd",
   "metadata": {},
   "outputs": [],
   "source": [
    "#!/usr/bin/env python3\n",
    "#\n",
    "# File: app_logging.py\n",
    "# About: Logging provider\n",
    "# Development: Kelly Kinney, Leo Rubiano\n",
    "# Date: 2021-07-16 (July 16th, 2021)\n",
    "#\n",
    "\"\"\"\n",
    "A class to standardize log formatting across all application artifacts.\n",
    "\n",
    "Define common loggers and format to be used across the application.\n",
    "NOTE: These logs are localized and non-persistent.\n",
    "If used with a Docker container,\n",
    "they cease to exist when the container does.\n",
    "\n",
    "    Usage: (not meant to be called directly)\n",
    "    log = create_logger(\"app_logging\")\n",
    "    log.debug(\"This message will be logged.\")\n",
    "\n",
    "\"\"\"\n",
    "import logging\n",
    "import os\n",
    "from os.path import join, dirname\n",
    "from dotenv import load_dotenv\n",
    "\n",
    "\n",
    "def create_logger(name):\n",
    "    \"\"\"This function creates a logger template for the discovery package.\n",
    "\n",
    "    This function creates a consistant format and location for\n",
    "    all application log files to write to.\n",
    "    \"\"\"\n",
    "    dotenv_path = join(dirname(__file__), '../.env')\n",
    "    load_dotenv(dotenv_path)\n",
    "    discovery_log_file = str(os.getenv(\"discovery_LOG_FILE\"))\n",
    "    web_response_file = str(os.getenv(\"WEB_RESPONSE_FILE\"))\n",
    "\n",
    "    logger = logging.getLogger(name)\n",
    "\n",
    "    # create file handler which writes to an application log view.\n",
    "    file_logger = logging.FileHandler(discovery_log_file)\n",
    "    file_logger.setLevel(logging.INFO)\n",
    "\n",
    "    # create console handler which writes to the console\n",
    "    console_logger = logging.StreamHandler()\n",
    "    console_logger.setLevel(logging.INFO)\n",
    "\n",
    "    # create a logger to handle responses\n",
    "    response_logger = logging.FileHandler(web_response_file)\n",
    "    response_logger.setLevel(logging.INFO)\n",
    "\n",
    "    # Create a custom formatter and add it to the handlers\n",
    "    _format = \"%(asctime)s - %(levelname)s - %(name)s - %(message)s\"\n",
    "    datefmt = \"%m/%d/%Y %I:%M:%S %p\"\n",
    "    formatter = logging.Formatter(_format, datefmt)\n",
    "\n",
    "    file_logger.setFormatter(formatter)\n",
    "    console_logger.setFormatter(formatter)\n",
    "\n",
    "    # Create a custom formatter for the response_logger\n",
    "    response_format = \"%(asctime)s - %(message)s\"\n",
    "    response_datefmt = \"%Y%m%d:%H:%M:%S\"\n",
    "    response_formatter = logging.Formatter(response_format,\n",
    "                                           response_datefmt)\n",
    "\n",
    "    response_logger.setFormatter(response_formatter)\n",
    "\n",
    "    # Associate the the handlers to the loggers\n",
    "    logger.addHandler(file_logger)\n",
    "    logger.addHandler(console_logger)\n",
    "    logger.addHandler(response_logger)\n",
    "\n",
    "    return logger\n"
   ]
  },
  {
   "cell_type": "code",
   "execution_count": 13,
   "id": "68d65395-5d3b-44ab-b30f-28558cc3da2f",
   "metadata": {},
   "outputs": [],
   "source": [
    "#!/usr/bin/env python3\n",
    "# pylint: disable=R0903\n",
    "# Too few public methods.\n",
    "# File: create_urn_id.py\n",
    "# About: Generate a unique identifier for the discovery to use to\n",
    "# track through the process.\n",
    "# Development: Kelly Kinney, Leo Rubiano\n",
    "# Date: 2021-11-05 (November 11th, 2021)\n",
    "\"\"\"This class creates a random 10 character alphanumeric id to\n",
    "track the request\n",
    "through the process end-to-end.\"\"\"\n",
    "import secrets\n",
    "import string\n",
    "# from app_logging import create_logger\n",
    "\n",
    "\n",
    "class CreateTrackingID:\n",
    "    \"\"\"Class to create a tracking Id for the discovery.\"\"\"\n",
    "\n",
    "    def __init__(self):\n",
    "        \"\"\"Entry point into the application and define variables upon\n",
    "        class instantiation.\"\"\"\n",
    "        self.log = create_logger(\"create_tracking_id\")\n",
    "        self.tracking_id = \"\"\n",
    "        self.alphabet = string.ascii_uppercase + string.digits\n",
    "        self.log.info(\n",
    "            f\"Created domain of allowed characters for tracking id: {self.alphabet}.\"\n",
    "        )\n",
    "\n",
    "    def create_tracking_id(self, id_size):\n",
    "        \"\"\"Creates a completely random uuid not associated with mac address,\n",
    "        node or timestamp.\"\"\"\n",
    "        for _ in range(id_size):\n",
    "            self.tracking_id = self.tracking_id +\\\n",
    "                (secrets.choice(self.alphabet))\n",
    "        return self.tracking_id\n"
   ]
  },
  {
   "cell_type": "code",
   "execution_count": null,
   "id": "527172f2-f4bd-44d5-a0c1-cb69b42c39de",
   "metadata": {},
   "outputs": [],
   "source": []
  }
 ],
 "metadata": {
  "kernelspec": {
   "display_name": "Python 3 (ipykernel)",
   "language": "python",
   "name": "python3"
  },
  "language_info": {
   "codemirror_mode": {
    "name": "ipython",
    "version": 3
   },
   "file_extension": ".py",
   "mimetype": "text/x-python",
   "name": "python",
   "nbconvert_exporter": "python",
   "pygments_lexer": "ipython3",
   "version": "3.10.1"
  }
 },
 "nbformat": 4,
 "nbformat_minor": 5
}
