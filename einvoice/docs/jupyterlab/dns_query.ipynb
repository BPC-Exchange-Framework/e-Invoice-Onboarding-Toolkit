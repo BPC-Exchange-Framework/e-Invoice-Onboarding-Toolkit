{
 "cells": [
  {
   "cell_type": "code",
   "execution_count": 3,
   "id": "68531d45-8204-46fd-b079-486e6e613217",
   "metadata": {},
   "outputs": [
    {
     "name": "stdout",
     "output_type": "stream",
     "text": [
      "<Response [200]>\n"
     ]
    }
   ],
   "source": [
    "import requests\n",
    "\n",
    "api_url = \"https://jsonplaceholder.typicode.com/todos/1\"\n",
    "response = requests.get(api_url)\n",
    "response.json()\n",
    "print(response)"
   ]
  },
  {
   "cell_type": "code",
   "execution_count": 8,
   "id": "8af8bc44-c2ce-469d-b565-fec354a2084d",
   "metadata": {},
   "outputs": [
    {
     "name": "stdout",
     "output_type": "stream",
     "text": [
      "<class 'dns.resolver.Answer'>\n",
      "6c24uvqpxrfyweqimfxmsuym3bbjvoikuwmmidquz2a2zzyikdya.sc-b2b.us. 60 IN NAPTR 100 100 \"U\" \"oasis-bdxr-smp-2\" \"!^.*$!https://my-smp-url.com/0123456789!\" .\n"
     ]
    }
   ],
   "source": [
    "import dns.resolver\n",
    "\n",
    "hashed_value = \"6c24uvqpxrfyweqimfxmsuym3bbjvoikuwmmidquz2a2zzyikdya.sc-b2b.us\"\n",
    "lookup = dns.resolver.resolve(hashed_value,'NAPTR')\n",
    "print(type(lookup))\n",
    "print(lookup.rrset)"
   ]
  },
  {
   "cell_type": "code",
   "execution_count": null,
   "id": "05a01002-926c-4cad-ae4e-252dd395d0ae",
   "metadata": {},
   "outputs": [],
   "source": []
  },
  {
   "cell_type": "code",
   "execution_count": 5,
   "id": "d6eee2d6-5985-4f91-b3f6-ea2028aed574",
   "metadata": {},
   "outputs": [],
   "source": [
    "import dns.resolver\n",
    "\n",
    "def naptr_lookup(self, urn, domain):\n",
    "        \"\"\"Module to do the naptr dns query/look-up.\"\"\"\n",
    "        self.naptr_record = urn + domain\n",
    "        self.log.info(f\"Look-up for urn: {self.naptr_record}\")\n",
    "        self.lookup_response = dict[resolve(self.naptr_record,\n",
    "                                                     'NAPTR')]\n",
    "        for answer in self.lookup_response.rrset:\n",
    "            self.smp_uri = answer.regexp\n",
    "            self.smp_uri = self.smp_uri.decode()\n",
    "        return self.smp_uri"
   ]
  },
  {
   "cell_type": "code",
   "execution_count": 1,
   "id": "07296810-d903-47ff-9faf-2ee97fe32046",
   "metadata": {},
   "outputs": [
    {
     "ename": "AttributeError",
     "evalue": "type object 'dict' has no attribute 'rrset'",
     "output_type": "error",
     "traceback": [
      "\u001b[0;31m---------------------------------------------------------------------------\u001b[0m",
      "\u001b[0;31mAttributeError\u001b[0m                            Traceback (most recent call last)",
      "\u001b[0;32m/var/folders/qk/w6fyqwrs6gx61d_05yjgyl540000gn/T/ipykernel_84104/145440674.py\u001b[0m in \u001b[0;36m<module>\u001b[0;34m\u001b[0m\n\u001b[1;32m      3\u001b[0m \u001b[0mnaptr_record\u001b[0m \u001b[0;34m=\u001b[0m \u001b[0;34m\"6c24uvqpxrfyweqimfxmsuym3bbjvoikuwmmidquz2a2zzyikdya.sc-b2b.us\"\u001b[0m\u001b[0;34m\u001b[0m\u001b[0;34m\u001b[0m\u001b[0m\n\u001b[1;32m      4\u001b[0m \u001b[0mlookup_response\u001b[0m \u001b[0;34m=\u001b[0m \u001b[0mdict\u001b[0m\u001b[0;34m[\u001b[0m\u001b[0mresolve\u001b[0m\u001b[0;34m(\u001b[0m\u001b[0mnaptr_record\u001b[0m\u001b[0;34m,\u001b[0m \u001b[0;34m\"NAPTR\"\u001b[0m\u001b[0;34m)\u001b[0m\u001b[0;34m]\u001b[0m\u001b[0;34m\u001b[0m\u001b[0;34m\u001b[0m\u001b[0m\n\u001b[0;32m----> 5\u001b[0;31m \u001b[0;32mfor\u001b[0m \u001b[0manswer\u001b[0m \u001b[0;32min\u001b[0m \u001b[0mlookup_response\u001b[0m\u001b[0;34m.\u001b[0m\u001b[0mrrset\u001b[0m\u001b[0;34m:\u001b[0m\u001b[0;34m\u001b[0m\u001b[0;34m\u001b[0m\u001b[0m\n\u001b[0m\u001b[1;32m      6\u001b[0m     \u001b[0msmp_uri\u001b[0m \u001b[0;34m=\u001b[0m \u001b[0manswer\u001b[0m\u001b[0;34m.\u001b[0m\u001b[0mregexp\u001b[0m\u001b[0;34m\u001b[0m\u001b[0;34m\u001b[0m\u001b[0m\n\u001b[1;32m      7\u001b[0m     \u001b[0msmp_uri\u001b[0m \u001b[0;34m=\u001b[0m \u001b[0msmp_uri\u001b[0m\u001b[0;34m.\u001b[0m\u001b[0mdecode\u001b[0m\u001b[0;34m(\u001b[0m\u001b[0;34m)\u001b[0m\u001b[0;34m\u001b[0m\u001b[0;34m\u001b[0m\u001b[0m\n",
      "\u001b[0;31mAttributeError\u001b[0m: type object 'dict' has no attribute 'rrset'"
     ]
    }
   ],
   "source": [
    "from dns.resolver import resolve\n",
    "\n",
    "naptr_record = \"6c24uvqpxrfyweqimfxmsuym3bbjvoikuwmmidquz2a2zzyikdya.sc-b2b.us\"\n",
    "lookup_response = dict[resolve(naptr_record, \"NAPTR\")]\n",
    "for answer in lookup_response.rrset:\n",
    "    smp_uri = answer.regexp\n",
    "    smp_uri = smp_uri.decode()\n",
    "# return smp_uri\n",
    "                               "
   ]
  },
  {
   "cell_type": "code",
   "execution_count": null,
   "id": "7f602647-9bb8-4290-bed5-df2ebf00fc31",
   "metadata": {},
   "outputs": [],
   "source": [
    "import dns.resolver\n",
    "\n",
    "hashed_value = \"6c24uvqpxrfyweqimfxmsuym3bbjvoikuwmmidquz2a2zzyikdya.sc-b2b.us\"\n",
    "lookup = resolve(hashed_value,'NAPTR')\n",
    "print(type(lookup))\n",
    "print(lookup.rrset)"
   ]
  },
  {
   "cell_type": "code",
   "execution_count": null,
   "id": "07412031-a81b-40fe-af03-921908d8176b",
   "metadata": {},
   "outputs": [],
   "source": []
  }
 ],
 "metadata": {
  "kernelspec": {
   "display_name": "Python 3 (ipykernel)",
   "language": "python",
   "name": "python3"
  },
  "language_info": {
   "codemirror_mode": {
    "name": "ipython",
    "version": 3
   },
   "file_extension": ".py",
   "mimetype": "text/x-python",
   "name": "python",
   "nbconvert_exporter": "python",
   "pygments_lexer": "ipython3",
   "version": "3.9.5"
  }
 },
 "nbformat": 4,
 "nbformat_minor": 5
}
