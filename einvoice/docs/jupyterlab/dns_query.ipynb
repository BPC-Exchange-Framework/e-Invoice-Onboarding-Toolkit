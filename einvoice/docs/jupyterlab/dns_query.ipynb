{
 "cells": [
  {
   "cell_type": "code",
   "execution_count": 2,
   "id": "68531d45-8204-46fd-b079-486e6e613217",
   "metadata": {},
   "outputs": [
    {
     "name": "stdout",
     "output_type": "stream",
     "text": [
      "<Response [200]>\n"
     ]
    }
   ],
   "source": [
    "import requests\n",
    "\n",
    "api_url = \"https://jsonplaceholder.typicode.com/todos/1\"\n",
    "response = requests.get(api_url)\n",
    "response.json()\n",
    "print(response)"
   ]
  },
  {
   "cell_type": "code",
   "execution_count": null,
   "id": "8af8bc44-c2ce-469d-b565-fec354a2084d",
   "metadata": {},
   "outputs": [],
   "source": [
    "import dns.resolver\n",
    "\n",
    "hashed_value = \"6c24uvqpxrfyweqimfxmsuym3bbjvoikuwmmidquz2a2zzyikdya.sc-b2b.us\"\n",
    "lookup = dns.resolver.resolve(hashed_value,'NAPTR')\n",
    "print(type(lookup))\n",
    "print(lookup.rrset)"
   ]
  },
  {
   "cell_type": "code",
   "execution_count": null,
   "id": "05a01002-926c-4cad-ae4e-252dd395d0ae",
   "metadata": {},
   "outputs": [],
   "source": []
  },
  {
   "cell_type": "code",
   "execution_count": null,
   "id": "d6eee2d6-5985-4f91-b3f6-ea2028aed574",
   "metadata": {},
   "outputs": [],
   "source": [
    "def naptr_lookup(self, urn, domain):\n",
    "        \"\"\"Module to do the naptr dns query/look-up.\"\"\"\n",
    "        self.naptr_record = urn + domain\n",
    "        self.log.info(f\"Look-up for urn: {self.naptr_record}\")\n",
    "        self.lookup_response = dict[resolve(self.naptr_record,\n",
    "                                                     'NAPTR')]\n",
    "        for answer in self.lookup_response.rrset:\n",
    "            self.smp_uri = answer.regexp\n",
    "            self.smp_uri = self.smp_uri.decode()\n",
    "        return self.smp_uri"
   ]
  },
  {
   "cell_type": "code",
   "execution_count": null,
   "id": "07296810-d903-47ff-9faf-2ee97fe32046",
   "metadata": {},
   "outputs": [],
   "source": [
    "naptr_record = \"6c24uvqpxrfyweqimfxmsuym3bbjvoikuwmmidquz2a2zzyikdya.sc-b2b.us\"\n",
    "lookup_response = dict[resolve(naptr_record, \"NAPTR')]\n",
    "for answer in self.lookup_response.rrset:\n",
    "    self.smp_uri = answer.regexp\n",
    "    self.smp_uri = self.smp_uri.decode()\n",
    "return self.smp_uri\n",
    "                               "
   ]
  },
  {
   "cell_type": "code",
   "execution_count": null,
   "id": "7f602647-9bb8-4290-bed5-df2ebf00fc31",
   "metadata": {},
   "outputs": [],
   "source": [
    "import dns.resolver\n",
    "\n",
    "hashed_value = \"6c24uvqpxrfyweqimfxmsuym3bbjvoikuwmmidquz2a2zzyikdya.sc-b2b.us\"\n",
    "lookup = resolve(hashed_value,'NAPTR')\n",
    "print(type(lookup))\n",
    "print(lookup.rrset)"
   ]
  },
  {
   "cell_type": "code",
   "execution_count": null,
   "id": "07412031-a81b-40fe-af03-921908d8176b",
   "metadata": {},
   "outputs": [],
   "source": []
  }
 ],
 "metadata": {
  "kernelspec": {
   "display_name": "Python 3 (ipykernel)",
   "language": "python",
   "name": "python3"
  },
  "language_info": {
   "codemirror_mode": {
    "name": "ipython",
    "version": 3
   },
   "file_extension": ".py",
   "mimetype": "text/x-python",
   "name": "python",
   "nbconvert_exporter": "python",
   "pygments_lexer": "ipython3",
   "version": "3.9.6"
  }
 },
 "nbformat": 4,
 "nbformat_minor": 5
}
