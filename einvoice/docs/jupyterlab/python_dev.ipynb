{
 "cells": [
  {
   "cell_type": "markdown",
   "id": "satisfied-passion",
   "metadata": {},
   "source": [
    "# __Python Development__  \n",
    "  \n",
    "***    \n",
    "   \n",
    "## _Development Environment_  \n",
    "  \n",
    "  \n",
    "### The Python Core  "
   ]
  },
  {
   "cell_type": "markdown",
   "id": "split-armenia",
   "metadata": {},
   "source": [
    "#### ___Python___  \n",
    "  \n",
    "- Obtain the most recent version of Python.  https://python.org\n",
    "    - Compare the MD5 checksum againgst that provided on the website by using PowerShell command [Get-FileHash](https://docs.microsoft.com/en-us/powershell/module/microsoft.powershell.utility/get-filehash?view=powershell-7.1)\n",
    "- Make sure to update pip\n",
    "    - check version using `> pip --version`\n",
    "    - run the command to update if necessary `> pip install --upgrade pip`"
   ]
  },
  {
   "cell_type": "markdown",
   "id": "6e560586-3623-4693-95e2-05367814cda1",
   "metadata": {},
   "source": [
    "#### Virtual Environments\n",
    "\n",
    "- Using Virtual Environments to develop in Python is one way to segregate and isolate different projects.  This can help prevent confusing module dependencies and \"leakage\" from one project to another.  \n",
    "\n",
    "- When programming on a distributed system without full admin rights it is one way to bring in otherwise missing dependencies without having to an Admin.  (You only make modifications to a local version of the Python install in your virtual environment.)\n",
    "\n",
    "- Two different tools for creating Python Virtual Environments are favored by some developers on the Project.  \n",
    "    - [conda](https://www.anaconda.com/) - provided with Anaconda, the Python package manager and development all-in-one goto for managing development tools for Python, R, Julia, etc. (focused on Data Science). \n",
    "    - [venv](https://docs.python.org/3/library/venv.html) - provided with the Python installation  "
   ]
  },
  {
   "cell_type": "markdown",
   "id": "juvenile-newsletter",
   "metadata": {},
   "source": [
    "#### JupyterLab  \n",
    "\n",
    "[JuptyerLab](https://jupyter.org/) has replaced Jupyter Notebook as the preferred interface for working with Jupter notebooks.\n",
    "  It can be a useful and easy way to combine text (Markdown) and code in a single working document.  \n",
    "  \n",
    "JupyterLab can be [installed by via pip or Anaconda](https://jupyter.org/install.html) or other package manager of your choice. \n",
    "\n",
    "\n",
    "If you have Python on your path, and assuming you've installed it via pip as described above, open JupyterLab by executing: `> jupyterl-lab` from the command line.  \n",
    "\n"
   ]
  },
  {
   "cell_type": "markdown",
   "id": "ac5f43ff-1bf0-41e7-ae53-a29dc82fc1dd",
   "metadata": {},
   "source": [
    "\n",
    "##### Tip:\n",
    "If you love JupyterLab, go all out, create a short-cut and place it on your desktop:  \n",
    "\n",
    "- In the shortcut set the Target to be: `C:\\Path\\To\\Python39\\Scripts\\jupyter-lab.exe --notebook-dir=\"C:\\Notebooks\\Dir\"`  \n",
    "- Also in the shortcut, select Run: Minimized.   \n",
    "- You can get an icon for your [shortcut here](https://raw.githubusercontent.com/jupyter/design/master/logos/Favicon/favicon.ico).  \n",
    "- Finally, if you are using MS Edge browser you can create the page as an App, which makes it almost appear as its own stand-alone application.  "
   ]
  },
  {
   "cell_type": "markdown",
   "id": "changing-bowling",
   "metadata": {
    "tags": []
   },
   "source": [
    "#### Packages and Modules\n",
    " \n",
    " As a rule of thumb, balance recreating every wheel with \"showing your work\" where it seems apprpriate.  \n",
    " \n",
    " Avoid creating dependencies with modules and package installs and only bring in what is necessary.  This is where the use of virtual environments can come in handy.  A very limited set of modules and packages which are fairly mainstream and widely used, as well as ones we know we will be using, are listed below.  \n",
    "   \n",
    "- Check which packages and modules are installed using either python itself or pip\n",
    "    - `>>> help(\"modules\")`\n",
    "    - `> pip list`   \n",
    "    \n",
    "- Additonal modules for Python \n",
    "    - ([djano](https://pypi.org/project/Django/)\n",
    "    - [Docutils](https://docutils.sourceforge.io/)\n",
    "    - [flask](https://pypi.org/project/Flask/)\n",
    "    - [jupyterlab](http://jupyterlab.io)\n",
    "    - [numpy](https://pypi.org/project/numpy/) \n",
    "    - [matplotlib](https://pypi.org/project/matplotlib/) \n",
    "    - [pandas](https://pypi.org/project/pandas/)\n",
    "    - [plotly](https://pypi.org/project/plotly/) \n",
    "    - [requests](https://pypi.org/project/requests/) \\(for requests [also see](https://realpython.com/python-requests/)\\).  \n",
    "\n"
   ]
  },
  {
   "cell_type": "markdown",
   "id": "7f8f4d41-536a-4043-9a6f-57db586791f5",
   "metadata": {},
   "source": [
    "#### Organizing a Python Application and Other Best Pracitces and Standards\n",
    "\n",
    "- For info on the filesystem of a Python project, see [this blog](http://as.ynchrono.us/2007/12/filesystem-structure-of-python-project_21.html) from Juan-Paul Calderone.\n",
    "\n",
    "\n",
    "- Try to adhere as much as possible to standards and best practices as outlined in:\n",
    "   - [PEP 8 - Style Guide for Python Code](https://www.python.org/dev/peps/pep-0008/) \n",
    "   - [PEP - 20 The Zen of Python](https://www.python.org/dev/peps/pep-0020/) \n",
    "   - [The Python Developer's Guide](https://devguide.python.org/)\n",
    "   - [Python Documentation](https://docs.python.org/3/) \n"
   ]
  },
  {
   "cell_type": "markdown",
   "id": "cee69a41-cae1-4a55-bd4f-3bd03859be5d",
   "metadata": {},
   "source": [
    "### Other Tools\n",
    "\n",
    "#### Scoop \n",
    "\n",
    "The install of Python and JupyterLab above were described manually.   If you prefer to use a package manager, [Scoop](scoop.sh) makes it very handy to install and manage packages without getting bogged down with OS installers.  The Scoop install is a single command line from PowerShell, and it's command line usage otherwise is very intuitive.  \n",
    "\n",
    "#### Node.js\n",
    "\n",
    "Attempting to add some extensions into JupyterLab will most likely require npm, included in Node.js.  \n",
    "Using Scoop, simply execute `> scoop install nodejs`\n",
    "Then from a new command line or PowerShell window, execute `> jupyter-lab build`\n",
    "This will rebuild the jupter-lab instance with the source extensions from npm.  \n",
    "See the [JupyterLab extensions documentation](https://jupyterlab.readthedocs.io/en/stable/user/extensions.html) for additional assistance.  \n",
    "  \n",
    "  \n",
    "#### Windows Terminal and PowerShell 7\n",
    "\n",
    "If you are working in a Windows environment make sure to get elf of the latest functionality available in the  update of Windows tools such as [Windows Terminal](https://aka.ms/terminal) and [PowerShell 7](https://docs.microsoft.com/en-us/powershell/scripting/install/migrating-from-windows-powershell-51-to-powershell-7?view=powershell-7.1).  If you spend any time on the command it is worth the nominal effort to upgrade.  \n",
    "\n",
    "\n",
    "#### Draw.io\n",
    "\n",
    "Open Source project [draw.io](https://app.diagrams.net/) to create diagrams, flowcharts, workflows, and other visualizations is versatile, has a rich feature-set, and includes the ability to integrate into GitHub and JupyterLab.   \n",
    "\n",
    "\n",
    "####  Fonts\n",
    "\n",
    "Draw.io may be enhanced with the use of Open-Source fonts from Google such as:\n",
    "- [Open Sans](https://fonts.google.com/specimen/Open+Sans)\n",
    "- [Poppins](https://fonts.google.com/specimen/Poppins)\n",
    "- [Roboto](https://fonts.google.com/specimen/Roboto)\n",
    "\n",
    "\n",
    "\n",
    "#### Markdown\n",
    "\n",
    "GitHub, Jupyter, and Microsoft all have flavors of Markdown, including implementation of YAML. \n",
    "They share [CommonMark](https://commonmark.org/) at their core.  \n",
    "What you're reading now was created in Jupyter's markdown, probably currently hosted on GitHub which has it's own flavor.  \n",
    "[Here's a cheatsheet of common features](https://commonmark.org/help/).\n",
    "\n"
   ]
  }
 ],
 "metadata": {
  "kernelspec": {
   "display_name": "Python 3",
   "language": "python",
   "name": "python3"
  },
  "language_info": {
   "codemirror_mode": {
    "name": "ipython",
    "version": 3
   },
   "file_extension": ".py",
   "mimetype": "text/x-python",
   "name": "python",
   "nbconvert_exporter": "python",
   "pygments_lexer": "ipython3",
   "version": "3.9.5"
  }
 },
 "nbformat": 4,
 "nbformat_minor": 5
}
